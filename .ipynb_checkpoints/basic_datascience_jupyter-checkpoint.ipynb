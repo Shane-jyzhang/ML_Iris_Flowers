{
 "cells": [
  {
   "cell_type": "code",
   "execution_count": null,
   "id": "a2de5618",
   "metadata": {},
   "outputs": [],
   "source": [
    "#print(\"Hello World\")"
   ]
  },
  {
   "cell_type": "code",
   "execution_count": null,
   "id": "f5a87db0",
   "metadata": {},
   "outputs": [],
   "source": [
    "# 5+8"
   ]
  },
  {
   "cell_type": "code",
   "execution_count": null,
   "id": "60159f6d",
   "metadata": {},
   "outputs": [],
   "source": [
    "x=-23.48"
   ]
  },
  {
   "cell_type": "code",
   "execution_count": null,
   "id": "79e6bbaf",
   "metadata": {},
   "outputs": [],
   "source": [
    "#x"
   ]
  },
  {
   "cell_type": "code",
   "execution_count": null,
   "id": "668f31d8",
   "metadata": {},
   "outputs": [],
   "source": [
    "import numpy as np\n",
    "import pandas as pd\n",
    "from matplotlib import pyplot as plt"
   ]
  },
  {
   "cell_type": "code",
   "execution_count": null,
   "id": "db660813",
   "metadata": {},
   "outputs": [],
   "source": [
    "My_first_dataframe=pd.DataFrame({ 'col1': [1, 2, 1.5], 'col2': [3, 4, 6] })   \n",
    "#My_first_dataframe"
   ]
  },
  {
   "cell_type": "markdown",
   "id": "3ab237b4",
   "metadata": {},
   "source": [
    "### Lets plot My_first_Dataframe"
   ]
  },
  {
   "cell_type": "code",
   "execution_count": null,
   "id": "58f960a5",
   "metadata": {},
   "outputs": [],
   "source": [
    "My_first_dataframe.plot(figsize=(3,3))\n",
    "\n",
    "plt.ylabel('value')\n",
    "plt.xlabel('index (row)')\n",
    "\n",
    "plt.show()"
   ]
  },
  {
   "cell_type": "markdown",
   "id": "4bf641d4",
   "metadata": {},
   "source": [
    "### Lets plot a sinus curve"
   ]
  },
  {
   "cell_type": "code",
   "execution_count": null,
   "id": "d43a58bd",
   "metadata": {},
   "outputs": [],
   "source": [
    "x=np.linspace(0,10,20)  # 20 elements in the 1D array x\n",
    "#x\n",
    "#x[0]   # note index starts from 0\n",
    "#x[19]"
   ]
  },
  {
   "cell_type": "code",
   "execution_count": null,
   "id": "d7de2a8b",
   "metadata": {},
   "outputs": [],
   "source": [
    "y=3*np.sin(0.8*x+5)\n",
    "#y"
   ]
  },
  {
   "cell_type": "code",
   "execution_count": null,
   "id": "496c9c23",
   "metadata": {},
   "outputs": [],
   "source": [
    "plt.plot(x,y)\n",
    "plt.show()"
   ]
  },
  {
   "cell_type": "markdown",
   "id": "ef7674bc",
   "metadata": {},
   "source": [
    "### scatterplot of some data (2D array):"
   ]
  },
  {
   "cell_type": "code",
   "execution_count": 26,
   "id": "1d366f05",
   "metadata": {},
   "outputs": [],
   "source": [
    "data=np.array([[2,1],[6,-2],[-1,-3]])\n",
    "#data\n",
    "#x_coord=data[:,0]\n",
    "#x_coord\n",
    "#y_coord=data[:,1]\n",
    "#y_coord"
   ]
  },
  {
   "cell_type": "code",
   "execution_count": 27,
   "id": "aa7ed3b9",
   "metadata": {},
   "outputs": [
    {
     "data": {
      "image/png": "[encoded data removed]",
      "text/plain": [
       "<Figure size 640x480 with 1 Axes>"
      ]
     },
     "metadata": {},
     "output_type": "display_data"
    }
   ],
   "source": [
    "plt.scatter(x_coord,y_coord)\n",
    "plt.show()"
   ]
  },
  {
   "cell_type": "markdown",
   "id": "e6616755",
   "metadata": {},
   "source": [
    "### scatterplot of some data (dataframe)"
   ]
  },
  {
   "cell_type": "code",
   "execution_count": 28,
   "id": "33af4b58",
   "metadata": {},
   "outputs": [
    {
     "data": {
      "text/html": [
       "<div>\n",
       "<style scoped>\n",
       "    .dataframe tbody tr th:only-of-type {\n",
       "        vertical-align: middle;\n",
       "    }\n",
       "\n",
       "    .dataframe tbody tr th {\n",
       "        vertical-align: top;\n",
       "    }\n",
       "\n",
       "    .dataframe thead th {\n",
       "        text-align: right;\n",
       "    }\n",
       "</style>\n",
       "<table border=\"1\" class=\"dataframe\">\n",
       "  <thead>\n",
       "    <tr style=\"text-align: right;\">\n",
       "      <th></th>\n",
       "      <th>x_coord</th>\n",
       "      <th>y_coord</th>\n",
       "    </tr>\n",
       "  </thead>\n",
       "  <tbody>\n",
       "    <tr>\n",
       "      <th>0</th>\n",
       "      <td>2</td>\n",
       "      <td>1</td>\n",
       "    </tr>\n",
       "    <tr>\n",
       "      <th>1</th>\n",
       "      <td>6</td>\n",
       "      <td>-2</td>\n",
       "    </tr>\n",
       "    <tr>\n",
       "      <th>2</th>\n",
       "      <td>-1</td>\n",
       "      <td>-3</td>\n",
       "    </tr>\n",
       "  </tbody>\n",
       "</table>\n",
       "</div>"
      ],
      "text/plain": [
       "   x_coord  y_coord\n",
       "0        2        1\n",
       "1        6       -2\n",
       "2       -1       -3"
      ]
     },
     "execution_count": 28,
     "metadata": {},
     "output_type": "execute_result"
    }
   ],
   "source": [
    "data2=pd.DataFrame(data,columns=('x_coord','y_coord'))\n",
    "data2"
   ]
  },
  {
   "cell_type": "code",
   "execution_count": 29,
   "id": "24988e1b",
   "metadata": {},
   "outputs": [
    {
     "data": {
      "text/plain": [
       "(3, 2)"
      ]
     },
     "execution_count": 29,
     "metadata": {},
     "output_type": "execute_result"
    }
   ],
   "source": [
    "data2.shape"
   ]
  },
  {
   "cell_type": "code",
   "execution_count": 30,
   "id": "16662404",
   "metadata": {},
   "outputs": [
    {
     "data": {
      "image/png": "[encoded data removed]",
      "text/plain": [
       "<Figure size 640x480 with 1 Axes>"
      ]
     },
     "metadata": {},
     "output_type": "display_data"
    }
   ],
   "source": [
    "data2.plot.scatter(x='x_coord',y='y_coord')\n",
    "plt.show()"
   ]
  },
  {
   "cell_type": "markdown",
   "id": "fcca47ab",
   "metadata": {},
   "source": [
    "### different colors of the datapoints:"
   ]
  },
  {
   "cell_type": "code",
   "execution_count": 31,
   "id": "a7f74d6f",
   "metadata": {},
   "outputs": [
    {
     "data": {
      "text/html": [
       "<div>\n",
       "<style scoped>\n",
       "    .dataframe tbody tr th:only-of-type {\n",
       "        vertical-align: middle;\n",
       "    }\n",
       "\n",
       "    .dataframe tbody tr th {\n",
       "        vertical-align: top;\n",
       "    }\n",
       "\n",
       "    .dataframe thead th {\n",
       "        text-align: right;\n",
       "    }\n",
       "</style>\n",
       "<table border=\"1\" class=\"dataframe\">\n",
       "  <thead>\n",
       "    <tr style=\"text-align: right;\">\n",
       "      <th></th>\n",
       "      <th>x_coord</th>\n",
       "      <th>y_coord</th>\n",
       "      <th>colors</th>\n",
       "    </tr>\n",
       "  </thead>\n",
       "  <tbody>\n",
       "    <tr>\n",
       "      <th>0</th>\n",
       "      <td>2</td>\n",
       "      <td>1</td>\n",
       "      <td>0</td>\n",
       "    </tr>\n",
       "    <tr>\n",
       "      <th>1</th>\n",
       "      <td>6</td>\n",
       "      <td>-2</td>\n",
       "      <td>1</td>\n",
       "    </tr>\n",
       "    <tr>\n",
       "      <th>2</th>\n",
       "      <td>-1</td>\n",
       "      <td>-3</td>\n",
       "      <td>2</td>\n",
       "    </tr>\n",
       "  </tbody>\n",
       "</table>\n",
       "</div>"
      ],
      "text/plain": [
       "   x_coord  y_coord  colors\n",
       "0        2        1       0\n",
       "1        6       -2       1\n",
       "2       -1       -3       2"
      ]
     },
     "execution_count": 31,
     "metadata": {},
     "output_type": "execute_result"
    }
   ],
   "source": [
    "data2['colors']=[0,1,2]\n",
    "data2"
   ]
  },
  {
   "cell_type": "code",
   "execution_count": 32,
   "id": "184b87e1",
   "metadata": {},
   "outputs": [
    {
     "data": {
      "text/plain": [
       "(3, 3)"
      ]
     },
     "execution_count": 32,
     "metadata": {},
     "output_type": "execute_result"
    }
   ],
   "source": [
    "data2.shape"
   ]
  },
  {
   "cell_type": "code",
   "execution_count": 33,
   "id": "a6e37eb7",
   "metadata": {},
   "outputs": [
    {
     "data": {
      "image/png": "[encoded data removed]",
      "text/plain": [
       "<Figure size 640x480 with 2 Axes>"
      ]
     },
     "metadata": {},
     "output_type": "display_data"
    }
   ],
   "source": [
    "data2.plot.scatter(x='x_coord',y='y_coord',c='colors',colormap='viridis')\n",
    "plt.show()"
   ]
  }
 ],
 "metadata": {
  "kernelspec": {
   "display_name": "Python 3 (ipykernel)",
   "language": "python",
   "name": "python3"
  },
  "language_info": {
   "codemirror_mode": {
    "name": "ipython",
    "version": 3
   },
   "file_extension": ".py",
   "mimetype": "text/x-python",
   "name": "python",
   "nbconvert_exporter": "python",
   "pygments_lexer": "ipython3",
   "version": "3.9.13"
  }
 },
 "nbformat": 4,
 "nbformat_minor": 5
}
